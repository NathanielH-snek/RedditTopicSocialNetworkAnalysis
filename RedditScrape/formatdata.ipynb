{
 "cells": [
  {
   "cell_type": "code",
   "execution_count": 57,
   "metadata": {},
   "outputs": [],
   "source": [
    "import pandas as pd\n",
    "import pickle"
   ]
  },
  {
   "cell_type": "code",
   "execution_count": 58,
   "metadata": {},
   "outputs": [],
   "source": [
    "with open('subsInfoDictFinal.pkl','rb') as f:\n",
    "    data = pickle.load(f)"
   ]
  },
  {
   "cell_type": "code",
   "execution_count": 59,
   "metadata": {},
   "outputs": [
    {
     "name": "stdout",
     "output_type": "stream",
     "text": [
      "{'category': 'carsautomotive', 'mods': ['mbround18', 'lKANl'], 'subcount': 169033, 'nsfw': False}\n"
     ]
    }
   ],
   "source": [
    "print(data['Toyota'])"
   ]
  },
  {
   "cell_type": "code",
   "execution_count": 60,
   "metadata": {},
   "outputs": [],
   "source": [
    "edgelist = []\n",
    "edgeattributes = []\n",
    "\n",
    "for sub, attributes in data.items():\n",
    "    if attributes['category'] == 'test':\n",
    "        continue\n",
    "    else:\n",
    "        category = attributes['category']\n",
    "        mods = [x for x in attributes['mods'] if x[-3:].lower() != 'bot']\n",
    "        subcount = attributes['subcount']\n",
    "        nsfw = attributes['nsfw']\n",
    "        nummods = len(mods)\n",
    "        \n",
    "        for mod in mods:\n",
    "            edgelist.append([mod,sub])\n",
    "        \n",
    "        subattr = [sub,category,subcount,nummods,nsfw]\n",
    "        edgeattributes.append(subattr)"
   ]
  },
  {
   "cell_type": "code",
   "execution_count": 61,
   "metadata": {},
   "outputs": [],
   "source": [
    "edges = pd.DataFrame(edgelist, columns=['Moderator','Subreddit'])\n",
    "edgeattr = pd.DataFrame(edgeattributes, columns=['Subreddit','Category','SubscriberCount','NumberOfModerators','NSFW'])"
   ]
  },
  {
   "cell_type": "code",
   "execution_count": 62,
   "metadata": {},
   "outputs": [],
   "source": [
    "edges.to_csv('edgelist.csv', index=False)\n",
    "edgeattr.to_csv('edgeattr.csv', index=False)"
   ]
  }
 ],
 "metadata": {
  "kernelspec": {
   "display_name": ".venv",
   "language": "python",
   "name": "python3"
  },
  "language_info": {
   "codemirror_mode": {
    "name": "ipython",
    "version": 3
   },
   "file_extension": ".py",
   "mimetype": "text/x-python",
   "name": "python",
   "nbconvert_exporter": "python",
   "pygments_lexer": "ipython3",
   "version": "3.12.6"
  }
 },
 "nbformat": 4,
 "nbformat_minor": 2
}
